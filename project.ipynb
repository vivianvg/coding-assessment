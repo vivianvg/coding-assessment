{
 "cells": [
  {
   "cell_type": "code",
   "execution_count": 1,
   "metadata": {},
   "outputs": [],
   "source": [
    "import pandas as pd\n",
    "import numpy as np\n",
    "import io\n",
    "import string"
   ]
  },
  {
   "cell_type": "code",
   "execution_count": 2,
   "metadata": {},
   "outputs": [],
   "source": [
    "# sample data: delimiter ';' line terminator \\n \n",
    "data = 'Airline Code;DelayTimes;FlightCodes;To_From\\nAir Canada (!);[21, 40];20015.0;WAterLoo_NEWYork\\n<Air France> (12);[];;Montreal_TORONTO\\n(Porter Airways. );[60, 22, 87];20035.0;CALgary_Ottawa\\n12. Air France;[78, 66];;Ottawa_VANcouvER\\n\"\"\".\\\\.Lufthansa.\\\\.\"\"\";[12, 33];20055.0;london_MONTreal\\n'"
   ]
  },
  {
   "cell_type": "code",
   "execution_count": 3,
   "metadata": {},
   "outputs": [],
   "source": [
    "# convert stringified data to dataframe\n",
    "data = data.replace('_', ';')                       # split to and from columns\n",
    "flights = pd.read_csv(io.StringIO(data), sep=\";\")   # read to dataframe\n",
    "flights.index += 1\n",
    "\n",
    "# adjust 'FlightCodes'\n",
    "#   get first flight code\n",
    "start_code = flights['FlightCodes'][flights['FlightCodes'].first_valid_index()] \n",
    "#   fill all codes, set int type\n",
    "flight_codes = np.arange(start_code, start_code + 10 * len(flights.index), 10, dtype='int64') \n",
    "flights['FlightCodes'] = flight_codes\n",
    "\n",
    "# adjust 'To', 'From''s cases\n",
    "flights['To'] = flights['To'].apply(lambda s: s.capitalize())\n",
    "flights['From'] = flights['From'].apply(lambda s: s.capitalize())\n",
    "\n",
    "# clean 'Airline Code'\n",
    "#   remove punctuation\n",
    "flights['Airline Code'] = flights['Airline Code'].apply(lambda s: s.translate(str.maketrans('', '', string.punctuation))) "
   ]
  },
  {
   "cell_type": "code",
   "execution_count": 4,
   "metadata": {},
   "outputs": [
    {
     "data": {
      "text/html": [
       "<div>\n",
       "<style scoped>\n",
       "    .dataframe tbody tr th:only-of-type {\n",
       "        vertical-align: middle;\n",
       "    }\n",
       "\n",
       "    .dataframe tbody tr th {\n",
       "        vertical-align: top;\n",
       "    }\n",
       "\n",
       "    .dataframe thead th {\n",
       "        text-align: right;\n",
       "    }\n",
       "</style>\n",
       "<table border=\"1\" class=\"dataframe\">\n",
       "  <thead>\n",
       "    <tr style=\"text-align: right;\">\n",
       "      <th></th>\n",
       "      <th>Airline Code</th>\n",
       "      <th>DelayTimes</th>\n",
       "      <th>FlightCodes</th>\n",
       "      <th>To</th>\n",
       "      <th>From</th>\n",
       "    </tr>\n",
       "  </thead>\n",
       "  <tbody>\n",
       "    <tr>\n",
       "      <th>1</th>\n",
       "      <td>Air Canada</td>\n",
       "      <td>[21, 40]</td>\n",
       "      <td>20015</td>\n",
       "      <td>Waterloo</td>\n",
       "      <td>Newyork</td>\n",
       "    </tr>\n",
       "    <tr>\n",
       "      <th>2</th>\n",
       "      <td>Air France 12</td>\n",
       "      <td>[]</td>\n",
       "      <td>20025</td>\n",
       "      <td>Montreal</td>\n",
       "      <td>Toronto</td>\n",
       "    </tr>\n",
       "    <tr>\n",
       "      <th>3</th>\n",
       "      <td>Porter Airways</td>\n",
       "      <td>[60, 22, 87]</td>\n",
       "      <td>20035</td>\n",
       "      <td>Calgary</td>\n",
       "      <td>Ottawa</td>\n",
       "    </tr>\n",
       "    <tr>\n",
       "      <th>4</th>\n",
       "      <td>12 Air France</td>\n",
       "      <td>[78, 66]</td>\n",
       "      <td>20045</td>\n",
       "      <td>Ottawa</td>\n",
       "      <td>Vancouver</td>\n",
       "    </tr>\n",
       "    <tr>\n",
       "      <th>5</th>\n",
       "      <td>Lufthansa</td>\n",
       "      <td>[12, 33]</td>\n",
       "      <td>20055</td>\n",
       "      <td>London</td>\n",
       "      <td>Montreal</td>\n",
       "    </tr>\n",
       "  </tbody>\n",
       "</table>\n",
       "</div>"
      ],
      "text/plain": [
       "      Airline Code    DelayTimes  FlightCodes        To       From\n",
       "1      Air Canada       [21, 40]        20015  Waterloo    Newyork\n",
       "2    Air France 12            []        20025  Montreal    Toronto\n",
       "3  Porter Airways   [60, 22, 87]        20035   Calgary     Ottawa\n",
       "4    12 Air France      [78, 66]        20045    Ottawa  Vancouver\n",
       "5        Lufthansa      [12, 33]        20055    London   Montreal"
      ]
     },
     "execution_count": 4,
     "metadata": {},
     "output_type": "execute_result"
    }
   ],
   "source": [
    "flights"
   ]
  }
 ],
 "metadata": {
  "kernelspec": {
   "display_name": "Python 3",
   "language": "python",
   "name": "python3"
  },
  "language_info": {
   "codemirror_mode": {
    "name": "ipython",
    "version": 3
   },
   "file_extension": ".py",
   "mimetype": "text/x-python",
   "name": "python",
   "nbconvert_exporter": "python",
   "pygments_lexer": "ipython3",
   "version": "3.9.7"
  },
  "orig_nbformat": 4
 },
 "nbformat": 4,
 "nbformat_minor": 2
}
